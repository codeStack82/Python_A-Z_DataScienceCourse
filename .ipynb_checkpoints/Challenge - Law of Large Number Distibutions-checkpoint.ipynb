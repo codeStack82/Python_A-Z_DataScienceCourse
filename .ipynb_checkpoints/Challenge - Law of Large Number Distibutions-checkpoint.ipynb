{
 "cells": [
  {
   "cell_type": "code",
   "execution_count": 19,
   "metadata": {
    "collapsed": false
   },
   "outputs": [
    {
     "name": "stdout",
     "output_type": "stream",
     "text": [
      "In Range :68.28% Not In Range: 31.72%\n"
     ]
    }
   ],
   "source": [
    "import numpy as np\n",
    "from numpy.random import randn\n",
    "inRange = 0\n",
    "notInRange = 0\n",
    "numToTest = 1000000\n",
    "for i in randn(numToTest):\n",
    "    num = randn()\n",
    "    if num > -1 and num < 1:\n",
    "        inRange += 1\n",
    "    else:\n",
    "        notInRange +=1\n",
    "print(\"In Range :\" + str(round(100 *(inRange/numToTest),2)) + \n",
    "      \"% Not In Range: \" + str(round(100*(notInRange/numToTest),2)) +\"%\")\n",
    "        \n",
    " \n",
    "    "
   ]
  },
  {
   "cell_type": "code",
   "execution_count": null,
   "metadata": {
    "collapsed": true
   },
   "outputs": [],
   "source": []
  },
  {
   "cell_type": "code",
   "execution_count": null,
   "metadata": {
    "collapsed": true
   },
   "outputs": [],
   "source": []
  }
 ],
 "metadata": {
  "kernelspec": {
   "display_name": "Python 3",
   "language": "python",
   "name": "python3"
  },
  "language_info": {
   "codemirror_mode": {
    "name": "ipython",
    "version": 3
   },
   "file_extension": ".py",
   "mimetype": "text/x-python",
   "name": "python",
   "nbconvert_exporter": "python",
   "pygments_lexer": "ipython3",
   "version": "3.6.0"
  }
 },
 "nbformat": 4,
 "nbformat_minor": 2
}
